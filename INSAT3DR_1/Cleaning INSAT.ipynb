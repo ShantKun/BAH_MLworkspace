{
 "cells": [
  {
   "cell_type": "code",
   "execution_count": 9,
   "id": "8069f02d-748e-4335-921f-5ee0848f2a2c",
   "metadata": {},
   "outputs": [
    {
     "name": "stdout",
     "output_type": "stream",
     "text": [
      "Collecting xarray\n",
      "  Using cached xarray-2025.6.1-py3-none-any.whl.metadata (12 kB)\n",
      "Collecting plotly\n",
      "  Using cached plotly-6.2.0-py3-none-any.whl.metadata (8.5 kB)\n",
      "Requirement already satisfied: numpy in c:\\users\\shantanoo aher\\appdata\\local\\programs\\python\\python312\\lib\\site-packages (2.0.2)\n",
      "Requirement already satisfied: pandas in c:\\users\\shantanoo aher\\appdata\\local\\programs\\python\\python312\\lib\\site-packages (2.2.3)\n",
      "Requirement already satisfied: matplotlib in c:\\users\\shantanoo aher\\appdata\\local\\programs\\python\\python312\\lib\\site-packages (3.9.2)\n",
      "Requirement already satisfied: packaging>=23.2 in c:\\users\\shantanoo aher\\appdata\\local\\programs\\python\\python312\\lib\\site-packages (from xarray) (24.1)\n",
      "Collecting narwhals>=1.15.1 (from plotly)\n",
      "  Using cached narwhals-1.44.0-py3-none-any.whl.metadata (11 kB)\n",
      "Requirement already satisfied: python-dateutil>=2.8.2 in c:\\users\\shantanoo aher\\appdata\\local\\programs\\python\\python312\\lib\\site-packages (from pandas) (2.9.0.post0)\n",
      "Requirement already satisfied: pytz>=2020.1 in c:\\users\\shantanoo aher\\appdata\\local\\programs\\python\\python312\\lib\\site-packages (from pandas) (2024.2)\n",
      "Requirement already satisfied: tzdata>=2022.7 in c:\\users\\shantanoo aher\\appdata\\local\\programs\\python\\python312\\lib\\site-packages (from pandas) (2024.2)\n",
      "Requirement already satisfied: contourpy>=1.0.1 in c:\\users\\shantanoo aher\\appdata\\local\\programs\\python\\python312\\lib\\site-packages (from matplotlib) (1.3.0)\n",
      "Requirement already satisfied: cycler>=0.10 in c:\\users\\shantanoo aher\\appdata\\local\\programs\\python\\python312\\lib\\site-packages (from matplotlib) (0.12.1)\n",
      "Requirement already satisfied: fonttools>=4.22.0 in c:\\users\\shantanoo aher\\appdata\\local\\programs\\python\\python312\\lib\\site-packages (from matplotlib) (4.54.1)\n",
      "Requirement already satisfied: kiwisolver>=1.3.1 in c:\\users\\shantanoo aher\\appdata\\local\\programs\\python\\python312\\lib\\site-packages (from matplotlib) (1.4.7)\n",
      "Requirement already satisfied: pillow>=8 in c:\\users\\shantanoo aher\\appdata\\local\\programs\\python\\python312\\lib\\site-packages (from matplotlib) (11.0.0)\n",
      "Requirement already satisfied: pyparsing>=2.3.1 in c:\\users\\shantanoo aher\\appdata\\local\\programs\\python\\python312\\lib\\site-packages (from matplotlib) (3.2.0)\n",
      "Requirement already satisfied: six>=1.5 in c:\\users\\shantanoo aher\\appdata\\local\\programs\\python\\python312\\lib\\site-packages (from python-dateutil>=2.8.2->pandas) (1.16.0)\n",
      "Using cached xarray-2025.6.1-py3-none-any.whl (1.3 MB)\n",
      "Using cached plotly-6.2.0-py3-none-any.whl (9.6 MB)\n",
      "Using cached narwhals-1.44.0-py3-none-any.whl (365 kB)\n",
      "Installing collected packages: narwhals, plotly, xarray\n",
      "Successfully installed narwhals-1.44.0 plotly-6.2.0 xarray-2025.6.1\n"
     ]
    },
    {
     "name": "stderr",
     "output_type": "stream",
     "text": [
      "WARNING: Ignoring invalid distribution ~cipy (C:\\Users\\Shantanoo Aher\\AppData\\Local\\Programs\\Python\\Python312\\Lib\\site-packages)\n",
      "WARNING: Ignoring invalid distribution ~cipy (C:\\Users\\Shantanoo Aher\\AppData\\Local\\Programs\\Python\\Python312\\Lib\\site-packages)\n",
      "  WARNING: The script plotly_get_chrome.exe is installed in 'C:\\Users\\Shantanoo Aher\\AppData\\Local\\Programs\\Python\\Python312\\Scripts' which is not on PATH.\n",
      "  Consider adding this directory to PATH or, if you prefer to suppress this warning, use --no-warn-script-location.\n",
      "WARNING: Ignoring invalid distribution ~cipy (C:\\Users\\Shantanoo Aher\\AppData\\Local\\Programs\\Python\\Python312\\Lib\\site-packages)\n",
      "\n",
      "[notice] A new release of pip is available: 25.0.1 -> 25.1.1\n",
      "[notice] To update, run: C:\\Users\\Shantanoo Aher\\AppData\\Local\\Programs\\Python\\Python312\\python.exe -m pip install --upgrade pip\n"
     ]
    }
   ],
   "source": [
    "import sys\n",
    "!\"{sys.executable}\" -m pip install xarray plotly numpy pandas matplotlib\n"
   ]
  },
  {
   "cell_type": "code",
   "execution_count": 11,
   "id": "24b0251c-cf7a-4be6-a0c5-707e1c59237f",
   "metadata": {},
   "outputs": [
    {
     "name": "stdout",
     "output_type": "stream",
     "text": [
      "Requirement already satisfied: tqdm in c:\\users\\shantanoo aher\\appdata\\local\\programs\\python\\python312\\lib\\site-packages (4.67.1)\n",
      "Requirement already satisfied: colorama in c:\\users\\shantanoo aher\\appdata\\local\\programs\\python\\python312\\lib\\site-packages (from tqdm) (0.4.6)\n"
     ]
    },
    {
     "name": "stderr",
     "output_type": "stream",
     "text": [
      "WARNING: Ignoring invalid distribution ~cipy (C:\\Users\\Shantanoo Aher\\AppData\\Local\\Programs\\Python\\Python312\\Lib\\site-packages)\n",
      "WARNING: Ignoring invalid distribution ~cipy (C:\\Users\\Shantanoo Aher\\AppData\\Local\\Programs\\Python\\Python312\\Lib\\site-packages)\n",
      "WARNING: Ignoring invalid distribution ~cipy (C:\\Users\\Shantanoo Aher\\AppData\\Local\\Programs\\Python\\Python312\\Lib\\site-packages)\n",
      "\n",
      "[notice] A new release of pip is available: 25.0.1 -> 25.1.1\n",
      "[notice] To update, run: C:\\Users\\Shantanoo Aher\\AppData\\Local\\Programs\\Python\\Python312\\python.exe -m pip install --upgrade pip\n"
     ]
    }
   ],
   "source": [
    "!\"{sys.executable}\" -m pip install tqdm"
   ]
  },
  {
   "cell_type": "code",
   "execution_count": 1,
   "id": "ac9f1317-f5a3-40f1-b09c-03a825a9a02c",
   "metadata": {},
   "outputs": [],
   "source": [
    "import os\n",
    "import rasterio\n",
    "import plotly\n",
    "import matplotlib\n",
    "import numpy as np\n",
    "from tqdm import tqdm\n",
    "from glob import glob"
   ]
  },
  {
   "cell_type": "code",
   "execution_count": 2,
   "id": "b1703f7f-7f58-4a4f-8cd2-af83d1a82cfa",
   "metadata": {},
   "outputs": [],
   "source": [
    "input_folder=r\"C:\\Users\\Shantanoo Aher\\OneDrive\\Documents\\Jul25_133189\"\n",
    "output_folder=r\"C:\\Users\\Shantanoo Aher\\OneDrive\\Documents\\INSAT_CLEANED_DATA\"\n",
    "npy_folder=r\"C:\\Users\\Shantanoo Aher\\OneDrive\\Documents\\npyf\"\n",
    "\n",
    "os.makedirs(output_folder, exist_ok=True)\n",
    "os.makedirs(npy_folder, exist_ok=True)"
   ]
  },
  {
   "cell_type": "code",
   "execution_count": 3,
   "id": "b7dd13dc-58db-45e6-b02e-dab18b27c79a",
   "metadata": {},
   "outputs": [],
   "source": [
    "Valid_ranges={\n",
    "    \"WV\":    (0.5, 8),\n",
    "    \"TIR1\":  (0.5, 12),\n",
    "    \"TIR2\":  (0.5, 12),\n",
    "    \"SWIR\":  (0,100),\n",
    "    \"VIS\" :  (0,100),\n",
    "}\n",
    "BAND_ORDER = list(Valid_ranges.keys())\n",
    "band_to_index = {band: i for i, band in enumerate(BAND_ORDER)}"
   ]
  },
  {
   "cell_type": "code",
   "execution_count": 15,
   "id": "d3f72e39-396e-448f-912c-e530464bd221",
   "metadata": {},
   "outputs": [],
   "source": [
    "wavelength_m = {\n",
    "    \"VIS\":  0.65e-6,\n",
    "    \"SWIR\": 1.625e-6,\n",
    "    \"MIR\":  3.90e-6,\n",
    "    \"WV\":   6.80e-6,\n",
    "    \"TIR1\": 10.80e-6,\n",
    "    \"TIR2\": 12.00e-6,\n",
    "}"
   ]
  },
  {
   "cell_type": "code",
   "execution_count": 16,
   "id": "f2b970cf-61aa-4bd8-bcf3-4492a2a1785b",
   "metadata": {},
   "outputs": [],
   "source": [
    "#Selective conversion of radiance into Brightness Temperature (BT)\n",
    "def radiance_to_BT(L,wavelength_m):\n",
    "    h = 6.62607015e-34  # Planck constant (J·s)\n",
    "    c = 2.99792458e8    # Speed of light (m/s)\n",
    "    k = 1.380649e-23    # Boltzmann constant (J/K)\n",
    "\n",
    "    c1 = 2 * h * c**2\n",
    "    c2 = h * c / k\n",
    "    with np.errstate(divide='ignore', invalid='ignore'):\n",
    "        numerator = c2 / wavelength_m\n",
    "        denominator = np.log((c1 / (L * wavelength_m**5)) + 1)\n",
    "        BT = numerator / denominator\n",
    "\n",
    "    return np.nan_to_num(BT, nan=0.0, posinf=0.0, neginf=0.0)"
   ]
  },
  {
   "cell_type": "code",
   "execution_count": 22,
   "id": "6e81a24c-0a49-4cd9-b3c8-a9956b536111",
   "metadata": {},
   "outputs": [],
   "source": [
    "def process_bands(band_data, wavelengths, valid_ranges):\n",
    "    thermal_bands = [\"WV\", \"TIR1\", \"TIR2\"]\n",
    "    processed_data = {}\n",
    "\n",
    "    for band, radiance in band_data.items():\n",
    "        # Inspect input radiance range\n",
    "        min_rad = np.min(radiance)\n",
    "        max_rad = np.max(radiance)\n",
    "        print(f\"[{band}] Input Radiance Range: min={min_rad:.3f}, max={max_rad:.3f}\")\n",
    "\n",
    "        # Get valid range\n",
    "        min_valid, max_valid = valid_ranges[band]\n",
    "\n",
    "        # Check for out-of-range values\n",
    "        if min_rad < min_valid or max_rad > max_valid:\n",
    "            print(f\" [{band}] Radiance contains out-of-range values! Valid range: ({min_valid}, {max_valid})\")\n",
    "\n",
    "        # Clip to valid range\n",
    "        clipped_radiance = np.clip(radiance, min_valid, max_valid)\n",
    "\n",
    "        if band in thermal_bands:\n",
    "            # Convert mW/cm²/sr/μm → W/m²/sr/m\n",
    "            L_SI = clipped_radiance * 10 * 1e6  # (×10 → W/m²), (×1e6 → μm→m)\n",
    "            wavelength = wavelengths[band]     # Already in meters\n",
    "            BT = radiance_to_bt(L_SI, wavelength)\n",
    "            processed_data[band] = BT\n",
    "        else:\n",
    "            processed_data[band] = clipped_radiance\n",
    "\n",
    "    return processed_data\n"
   ]
  },
  {
   "cell_type": "code",
   "execution_count": 23,
   "id": "9e2625db-ac74-4b0f-9e1b-8dcce9535f91",
   "metadata": {},
   "outputs": [],
   "source": [
    "def process_file(file_path, band_name):\n",
    "    fname = os.path.basename(file_path)\n",
    "\n",
    "    with rasterio.open(file_path) as src:\n",
    "        data = src.read(1).astype(np.float32)\n",
    "        profile = src.profile\n",
    "        transform = src.transform\n",
    "\n",
    "        if not os.path.exists(\"lat_vals.npy\"):\n",
    "            width = src.width\n",
    "            height = src.height\n",
    "            lon_vals = np.array([transform * (x, 0) for x in range(width)])[:, 0]\n",
    "            lat_vals = np.array([transform * (0, y) for y in range(height)])[:, 1]\n",
    "            np.save(\"lat_vals.npy\", lat_vals)\n",
    "            np.save(\"lon_vals.npy\", lon_vals)\n",
    "\n",
    "        \n",
    "        min_val, max_val = Valid_ranges[band_name]\n",
    "        data = np.where((data < min_val) | (data > max_val), np.nan, data)\n",
    "#Convert to BT\n",
    "        if band_name in WAVELENGTHS:\n",
    "            wavelength = WAVELENGTHS[band_name]\n",
    "            data = radiance_to_BT(data, wavelength)\n",
    "\n",
    "        cleaned_path = os.path.join(output_folder, f\"cleaned_{fname}\")\n",
    "        profile.update(dtype=rasterio.float32, nodata=0)\n",
    "        with rasterio.open(cleaned_path, 'w', **profile) as dst:\n",
    "            dst.write(np.nan_to_num(data, nan=0).astype(np.float32), 1)\n",
    "#Save as Numpy array\n",
    "        npy_name = os.path.splitext(fname)[0] + \".npy\"\n",
    "        np.save(os.path.join(npy_folder, npy_name), data)"
   ]
  },
  {
   "cell_type": "code",
   "execution_count": 24,
   "id": "d52755da-98f9-41db-ac86-622e395e2c79",
   "metadata": {},
   "outputs": [
    {
     "name": "stderr",
     "output_type": "stream",
     "text": [
      "Cleaning and Converting to BT: 100%|█████████████████████████████████████████████████| 186/186 [02:52<00:00,  1.08it/s]\n"
     ]
    }
   ],
   "source": [
    "tif_files = sorted(glob(os.path.join(input_folder, \"*.tif\")))\n",
    "\n",
    "for tif_path in tqdm(tif_files, desc=\"Cleaning and Converting to BT\"):\n",
    "    fname = os.path.basename(tif_path)\n",
    "    for band in Valid_ranges:\n",
    "        if band in fname.upper():\n",
    "            process_file(tif_path, band)\n",
    "            break\n",
    "    else:\n",
    "        print(f\"Skipping unknown band: {fname}\")\n"
   ]
  },
  {
   "cell_type": "code",
   "execution_count": null,
   "id": "f7dac068-cac0-4de4-8340-29b6e5b4851f",
   "metadata": {},
   "outputs": [],
   "source": []
  }
 ],
 "metadata": {
  "kernelspec": {
   "display_name": "BAH2025",
   "language": "python",
   "name": "bah2025"
  },
  "language_info": {
   "codemirror_mode": {
    "name": "ipython",
    "version": 3
   },
   "file_extension": ".py",
   "mimetype": "text/x-python",
   "name": "python",
   "nbconvert_exporter": "python",
   "pygments_lexer": "ipython3",
   "version": "3.12.3"
  }
 },
 "nbformat": 4,
 "nbformat_minor": 5
}
