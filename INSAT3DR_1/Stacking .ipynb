{
 "cells": [
  {
   "cell_type": "code",
   "execution_count": 2,
   "id": "3561925a-2ebf-43b7-a83a-0461d9b284a6",
   "metadata": {},
   "outputs": [
    {
     "name": "stdout",
     "output_type": "stream",
     "text": [
      "Collecting netCDF4"
     ]
    },
    {
     "name": "stderr",
     "output_type": "stream",
     "text": [
      "WARNING: Ignoring invalid distribution ~cipy (C:\\Users\\Shantanoo Aher\\AppData\\Local\\Programs\\Python\\Python312\\Lib\\site-packages)\n",
      "WARNING: Ignoring invalid distribution ~cipy (C:\\Users\\Shantanoo Aher\\AppData\\Local\\Programs\\Python\\Python312\\Lib\\site-packages)\n",
      "  WARNING: The scripts nc3tonc4.exe, nc4tonc3.exe and ncinfo.exe are installed in 'C:\\Users\\Shantanoo Aher\\AppData\\Local\\Programs\\Python\\Python312\\Scripts' which is not on PATH.\n",
      "  Consider adding this directory to PATH or, if you prefer to suppress this warning, use --no-warn-script-location.\n",
      "WARNING: Ignoring invalid distribution ~cipy (C:\\Users\\Shantanoo Aher\\AppData\\Local\\Programs\\Python\\Python312\\Lib\\site-packages)\n",
      "\n",
      "[notice] A new release of pip is available: 25.0.1 -> 25.1.1\n",
      "[notice] To update, run: C:\\Users\\Shantanoo Aher\\AppData\\Local\\Programs\\Python\\Python312\\python.exe -m pip install --upgrade pip\n"
     ]
    },
    {
     "name": "stdout",
     "output_type": "stream",
     "text": [
      "\n",
      "  Using cached netCDF4-1.7.2-cp312-cp312-win_amd64.whl.metadata (1.8 kB)\n",
      "Requirement already satisfied: scipy in c:\\users\\shantanoo aher\\appdata\\local\\programs\\python\\python312\\lib\\site-packages (1.15.2)\n",
      "Collecting cftime (from netCDF4)\n",
      "  Using cached cftime-1.6.4.post1-cp312-cp312-win_amd64.whl.metadata (8.9 kB)\n",
      "Requirement already satisfied: certifi in c:\\users\\shantanoo aher\\appdata\\local\\programs\\python\\python312\\lib\\site-packages (from netCDF4) (2024.8.30)\n",
      "Requirement already satisfied: numpy in c:\\users\\shantanoo aher\\appdata\\local\\programs\\python\\python312\\lib\\site-packages (from netCDF4) (2.0.2)\n",
      "Using cached netCDF4-1.7.2-cp312-cp312-win_amd64.whl (7.0 MB)\n",
      "Using cached cftime-1.6.4.post1-cp312-cp312-win_amd64.whl (178 kB)\n",
      "Installing collected packages: cftime, netCDF4\n",
      "Successfully installed cftime-1.6.4.post1 netCDF4-1.7.2\n"
     ]
    }
   ],
   "source": [
    "import sys\n",
    "!\"{sys.executable}\" -m pip install netCDF4 scipy"
   ]
  },
  {
   "cell_type": "code",
   "execution_count": 3,
   "id": "b3a28f10-97e1-4945-a09f-81288b5030de",
   "metadata": {},
   "outputs": [],
   "source": [
    "import os\n",
    "import numpy as np\n",
    "from glob import glob\n",
    "from datetime import datetime\n",
    "import xarray as xr"
   ]
  },
  {
   "cell_type": "code",
   "execution_count": 4,
   "id": "e01beabc-1cb7-4460-a59c-2ed81250b9f7",
   "metadata": {},
   "outputs": [],
   "source": [
    "npy_folder=r\"C:\\Users\\Shantanoo Aher\\OneDrive\\Documents\\npyf\"\n",
    "nc4_output=\"INSAT3DR_Stacked.nc4\"\n",
    "band_order=['WV','VIS','SWIR','TIR1','TIR2']\n",
    "band_to_index = {b: i for i, b in enumerate(band_order)}"
   ]
  },
  {
   "cell_type": "code",
   "execution_count": 5,
   "id": "1e1b5959-50bb-4654-ac6f-08a5cd77f5fa",
   "metadata": {},
   "outputs": [],
   "source": [
    "npy_files = sorted(glob(os.path.join(npy_folder, \"*.npy\")))\n",
    "\n",
    "#Parsing timestamps and unique bands\n",
    "time_strings = set()\n",
    "for f in npy_files:\n",
    "    parts = os.path.basename(f).split(\"_\")\n",
    "    if len(parts) >= 3:\n",
    "        time_strings.add(f\"{parts[1]}_{parts[2]}\")\n",
    "time_strings = sorted(time_strings)"
   ]
  },
  {
   "cell_type": "code",
   "execution_count": 6,
   "id": "c5781c48-de18-49fc-bff5-e07e2519165f",
   "metadata": {},
   "outputs": [],
   "source": [
    "#Converting to proper datetime\n",
    "def parse_time(ts):\n",
    "    return datetime.strptime(ts, \"%d%b%Y_%H%M\")\n",
    "\n",
    "time_objects = [parse_time(t) for t in time_strings]\n",
    "shape_counts = {}\n",
    "for f in npy_files:\n",
    "    shape = np.load(f).shape\n",
    "    shape_counts[shape] = shape_counts.get(shape, 0) + 1\n",
    "\n",
    "ref_shape = max(shape_counts, key=shape_counts.get)\n",
    "nlat, nlon = ref_shape\n",
    "ntimes = len(time_objects)\n",
    "nbands = len(band_order)"
   ]
  },
  {
   "cell_type": "code",
   "execution_count": 7,
   "id": "3db83881-1283-4b6a-9210-3cf23369e83d",
   "metadata": {},
   "outputs": [],
   "source": [
    "stack = np.full((ntimes, nbands, nlat, nlon), np.nan, dtype=np.float32)\n",
    "\n",
    "for f in npy_files:\n",
    "    fname = os.path.basename(f)\n",
    "    parts = fname.split(\"_\")\n",
    "    if len(parts) < 4:\n",
    "        print(f\"Skipping malformed filename: {fname}\")\n",
    "        continue\n",
    "\n",
    "    timestamp = f\"{parts[1]}_{parts[2]}\"\n",
    "    band = parts[-1].replace(\".npy\", \"\").upper()\n",
    "\n",
    "    if band not in band_to_index:\n",
    "        print(f\"Skipping unknown band: {band}\")\n",
    "        continue\n",
    "\n",
    "    if timestamp not in time_strings:\n",
    "        print(f\"Skipping unknown timestamp: {timestamp}\")\n",
    "        continue\n",
    "\n",
    "    data = np.load(f)\n",
    "    if data.shape != ref_shape:\n",
    "        print(f\"Skipping file with mismatched shape: {fname} → {data.shape}\")\n",
    "        continue\n",
    "\n",
    "    time_idx = time_strings.index(timestamp)\n",
    "    band_idx = band_to_index[band]\n",
    "    stack[time_idx, band_idx] = data\n",
    "\n",
    "    "
   ]
  },
  {
   "cell_type": "code",
   "execution_count": 8,
   "id": "edac63e4-9665-457e-9b8a-01c2609d474b",
   "metadata": {},
   "outputs": [],
   "source": [
    "lat_vals=np.load(\"lat_vals.npy\")\n",
    "lon_vals=np.load(\"lon_vals.npy\")"
   ]
  },
  {
   "cell_type": "code",
   "execution_count": 9,
   "id": "6e8dcae9-c754-468b-add7-1b620934a121",
   "metadata": {},
   "outputs": [],
   "source": [
    "ds = xr.Dataset(\n",
    "    data_vars={\n",
    "        \"BT\": ((\"time\", \"band\", \"lat\", \"lon\"), stack)\n",
    "    },\n",
    "    coords={\n",
    "        \"time\": time_objects,\n",
    "        \"band\": band_order,\n",
    "        \"lat\": lat_vals,\n",
    "        \"lon\": lon_vals,\n",
    "    },\n",
    "    attrs={\n",
    "        \"title\": \"INSAT-3DR Brightness Temperature Dataset\",\n",
    "        \"description\": \"Stacked BT values from cleaned and georeferenced GeoTIFFs\",\n",
    "        \"institution\": \"Bharatiya Antariksh Hackathon 2025\",\n",
    "        \"source\": \"INSAT-3DR VHRR Radiance Converted to BT\",\n",
    "    }\n",
    ")"
   ]
  },
  {
   "cell_type": "code",
   "execution_count": 10,
   "id": "a2b28274-d8e2-4e1a-b77b-cd711df6313e",
   "metadata": {},
   "outputs": [],
   "source": [
    "ds.to_netcdf(nc4_output, format=\"NETCDF4\",engine='netcdf4')"
   ]
  },
  {
   "cell_type": "code",
   "execution_count": null,
   "id": "a45345ae-f409-404b-8c30-e3143f0a8f85",
   "metadata": {},
   "outputs": [],
   "source": []
  }
 ],
 "metadata": {
  "kernelspec": {
   "display_name": "BAH2025",
   "language": "python",
   "name": "bah2025"
  },
  "language_info": {
   "codemirror_mode": {
    "name": "ipython",
    "version": 3
   },
   "file_extension": ".py",
   "mimetype": "text/x-python",
   "name": "python",
   "nbconvert_exporter": "python",
   "pygments_lexer": "ipython3",
   "version": "3.12.3"
  }
 },
 "nbformat": 4,
 "nbformat_minor": 5
}
