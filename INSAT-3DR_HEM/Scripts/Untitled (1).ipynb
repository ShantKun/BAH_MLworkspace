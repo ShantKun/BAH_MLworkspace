{
 "cells": [
  {
   "cell_type": "code",
   "execution_count": 1,
   "id": "665b704e-e58f-46f3-a6b4-3d2b7bfa5c9a",
   "metadata": {},
   "outputs": [],
   "source": [
    "import os\n",
    "import h5py\n",
    "import numpy as np\n",
    "import re\n",
    "from tqdm import tqdm\n",
    "from datetime import datetime\n",
    "from scipy.interpolate import griddata"
   ]
  },
  {
   "cell_type": "code",
   "execution_count": 17,
   "id": "797d964d-9f30-49a7-99ab-61bd2b80e3c3",
   "metadata": {},
   "outputs": [],
   "source": [
    "#Input folder should be the folder where data is\n",
    "input_folder = r\"C:\\Users\\Shantanoo Aher\\OneDrive\\Documents\\Jul25_134497\"\n",
    "output_X = r\"C:\\Users\\Shantanoo Aher\\OneDrive\\Documents\\Insat-3DR\\X_coords\" #create a parent folder and in that folder make two different folders\n",
    "output_Y = r\"C:\\Users\\Shantanoo Aher\\OneDrive\\Documents\\Insat-3DR\\Y_coords\" # that will be your output_X and output_Y\n",
    "grid_res = 0.25  # degrees\n",
    "input_len = 6\n",
    "target_len = 2"
   ]
  },
  {
   "cell_type": "code",
   "execution_count": 18,
   "id": "c520b148-b719-46d2-a97e-812d3d10f8b2",
   "metadata": {},
   "outputs": [],
   "source": [
    "lat_grid = np.arange(6, 38.01, grid_res)\n",
    "lon_grid = np.arange(68, 98.01, grid_res)\n",
    "grid_lon, grid_lat = np.meshgrid(lon_grid, lat_grid)"
   ]
  },
  {
   "cell_type": "code",
   "execution_count": 19,
   "id": "61ceffef-fc64-48e8-baf5-a7d00d21941a",
   "metadata": {},
   "outputs": [],
   "source": [
    "#Extract Timestamps from the data\n",
    "\n",
    "def extract_timestamp(file):\n",
    "    match = re.search(r'_(\\d{2})([A-Z]{3})(\\d{4})_(\\d{4})_', file)\n",
    "    if not match: return None\n",
    "    day, mon, year, hhmm = match.groups()\n",
    "    months = {'JAN':1,'FEB':2,'MAR':3,'APR':4,'MAY':5,'JUN':6,\n",
    "              'JUL':7,'AUG':8,'SEP':9,'OCT':10,'NOV':11,'DEC':12}\n",
    "    dt = datetime(int(year), months[mon], int(day), int(hhmm[:2]), int(hhmm[2:]))\n",
    "    return np.datetime64(dt)"
   ]
  },
  {
   "cell_type": "code",
   "execution_count": 20,
   "id": "aa623789-2125-41c0-b3a8-fae476d5ccd6",
   "metadata": {},
   "outputs": [],
   "source": [
    "def process_file(file_path):\n",
    "    with h5py.File(file_path, 'r') as f:\n",
    "        lat = f['Latitude'][:] / 100.0\n",
    "        lon = f['Longitude'][:] / 100.0\n",
    "        hem = f['HEM'][0]\n",
    "        hem = np.where((hem <= 0) | (hem > 200), np.nan, hem)\n",
    "    #Flatten and interpolate into grids\n",
    "    points = np.column_stack((lon.ravel(), lat.ravel()))\n",
    "    values = hem.ravel()\n",
    "    interp_hem = griddata(points, values, (grid_lon, grid_lat), method='linear')\n",
    "    \n",
    "    # Normalize\n",
    "    interp_hem = (interp_hem - np.nanmean(interp_hem)) / (np.nanstd(interp_hem) + 1e-6)\n",
    "    return np.nan_to_num(interp_hem)   "
   ]
  },
  {
   "cell_type": "code",
   "execution_count": 21,
   "id": "c66736fb-21bd-4e03-bf6f-030c9edc3ae3",
   "metadata": {},
   "outputs": [],
   "source": [
    "# Preprocess the files\n",
    "file_list = sorted([f for f in os.listdir(input_folder) if f.endswith(\".h5\")])\n",
    "timestamps = [extract_timestamp(f) for f in file_list]\n",
    "valid = [(f, t) for f, t in zip(file_list, timestamps) if t is not None]\n",
    "file_list, timestamps = zip(*valid)"
   ]
  },
  {
   "cell_type": "code",
   "execution_count": null,
   "id": "d51b1465-7a38-4a51-8940-c795879d17a9",
   "metadata": {},
   "outputs": [
    {
     "name": "stdout",
     "output_type": "stream",
     "text": [
      "Building input-output sequences...\n"
     ]
    },
    {
     "name": "stderr",
     "output_type": "stream",
     "text": [
      "  0%|                                                                                            | 0/9 [00:00<?, ?it/s]"
     ]
    }
   ],
   "source": [
    "X_seq = []\n",
    "Y_seq = []\n",
    "\n",
    "print(\"Building input-output sequences...\")\n",
    "for i in tqdm(range(len(file_list) - input_len - target_len + 1)):\n",
    "    try:\n",
    "        X_stack = []\n",
    "        for j in range(input_len):\n",
    "            fpath = os.path.join(input_folder, file_list[i + j])\n",
    "            X_stack.append(process_file(fpath))\n",
    "        Y_stack = []\n",
    "        for j in range(target_len):\n",
    "            fpath = os.path.join(input_folder, file_list[i + input_len + j])\n",
    "            Y_stack.append(process_file(fpath))\n",
    "        X_seq.append(np.stack(X_stack))  # shape: (6, H, W)\n",
    "        Y_seq.append(np.stack(Y_stack))  # shape: (2, H, W)\n",
    "    except Exception as e:\n",
    "        print(f\"Failed at index {i}: {e}\")\n",
    "\n",
    "X_seq = np.stack(X_seq)  # shape: (N, 6, H, W)\n",
    "Y_seq = np.stack(Y_seq)  # shape: (N, 2, H, W)\n",
    "\n",
    "os.makedirs(os.path.dirname(output_X), exist_ok=True)\n",
    "np.save(output_X, X_seq)\n",
    "np.save(output_Y, Y_seq)\n",
    "print(f\"Saved X: {X_seq.shape} to {output_X}\")\n",
    "print(f\"Saved Y: {Y_seq.shape} to {output_Y}\")"
   ]
  },
  {
   "cell_type": "code",
   "execution_count": null,
   "id": "3c3aec06-4dec-420b-bd1b-f943213683aa",
   "metadata": {},
   "outputs": [],
   "source": []
  },
  {
   "cell_type": "code",
   "execution_count": null,
   "id": "38ad0c83-a979-475f-8ecf-bc8453c94f68",
   "metadata": {},
   "outputs": [],
   "source": []
  }
 ],
 "metadata": {
  "kernelspec": {
   "display_name": "BAH2025",
   "language": "python",
   "name": "bah2025"
  },
  "language_info": {
   "codemirror_mode": {
    "name": "ipython",
    "version": 3
   },
   "file_extension": ".py",
   "mimetype": "text/x-python",
   "name": "python",
   "nbconvert_exporter": "python",
   "pygments_lexer": "ipython3",
   "version": "3.12.3"
  }
 },
 "nbformat": 4,
 "nbformat_minor": 5
}
